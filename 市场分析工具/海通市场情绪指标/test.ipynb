{
 "cells": [
  {
   "cell_type": "code",
   "execution_count": 1,
   "metadata": {
    "collapsed": true
   },
   "outputs": [],
   "source": [
    "import pandas as pd\n",
    "import numpy as np\n",
    "from scipy import  stats\n",
    "import matplotlib.pyplot as plt\n",
    "import statsmodels.api as sm\n",
    "from statsmodels.graphics.api import qqplot"
   ]
  },
  {
   "cell_type": "code",
   "execution_count": 2,
   "metadata": {},
   "outputs": [],
   "source": [
    "dta = [10930,10318,10595,10972,7706,6756,9092,10551,9722,10913,11151,8186,6422,\n",
    "6337,11649,11652,10310,12043,7937,6476,9662,9570,9981,9331,9449,6773,6304,9355,\n",
    "10477,10148,10395,11261,8713,7299,10424,10795,11069,11602,11427,9095,7707,10767,\n",
    "12136,12812,12006,12528,10329,7818,11719,11683,12603,11495,13670,11337,10232,\n",
    "13261,13230,15535,16837,19598,14823,11622,19391,18177,19994,14723,15694,13248,\n",
    "9543,12872,13101,15053,12619,13749,10228,9725,14729,12518,14564,15085,14722,\n",
    "11999,9390,13481,14795,15845,15271,14686,11054,10395]"
   ]
  },
  {
   "cell_type": "code",
   "execution_count": 7,
   "metadata": {},
   "outputs": [
    {
     "data": {
      "text/plain": [
       "<matplotlib.axes._subplots.AxesSubplot at 0x1f2bed68240>"
      ]
     },
     "execution_count": 7,
     "metadata": {},
     "output_type": "execute_result"
    }
   ],
   "source": [
    "dta = pd.Series(dta)\n",
    "dta.index = pd.Index(sm.tsa.datetools.dates_from_range('2001', '2090'))\n",
    "dta.plot(figsize=(12, 8))"
   ]
  },
  {
   "cell_type": "code",
   "execution_count": null,
   "metadata": {},
   "outputs": [],
   "source": []
  }
 ],
 "metadata": {
  "kernelspec": {
   "display_name": "Python 2",
   "language": "python",
   "name": "python2"
  },
  "language_info": {
   "codemirror_mode": {
    "name": "ipython",
    "version": 2
   },
   "file_extension": ".py",
   "mimetype": "text/x-python",
   "name": "python",
   "nbconvert_exporter": "python",
   "pygments_lexer": "ipython2",
   "version": "2.7.6"
  }
 },
 "nbformat": 4,
 "nbformat_minor": 0
}
